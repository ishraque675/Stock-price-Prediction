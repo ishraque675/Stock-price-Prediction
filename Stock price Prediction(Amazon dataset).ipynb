{
 "cells": [
  {
   "cell_type": "markdown",
   "metadata": {},
   "source": [
    "**IMPORTING ALL THE REQUIRED LIBRARIES**"
   ]
  },
  {
   "cell_type": "code",
   "execution_count": 1,
   "metadata": {},
   "outputs": [],
   "source": [
    "import pandas as pd\n",
    "import numpy as np\n",
    "import matplotlib.pyplot as plt\n",
    "%matplotlib inline\n",
    "import seaborn as sns\n",
    "import math\n",
    "import tensorflow as tlf\n",
    "from tensorflow.keras.models import Sequential\n",
    "from tensorflow.keras.layers import LSTM,Dense\n"
   ]
  },
  {
   "cell_type": "markdown",
   "metadata": {},
   "source": [
    "**GETTING THE DATASET**"
   ]
  },
  {
   "cell_type": "code",
   "execution_count": 2,
   "metadata": {},
   "outputs": [],
   "source": [
    "df_amazon=pd.read_csv('HistoricalData_AMZN.csv',index_col='Date',parse_dates=True)"
   ]
  },
  {
   "cell_type": "code",
   "execution_count": 3,
   "metadata": {},
   "outputs": [
    {
     "data": {
      "text/html": [
       "<div>\n",
       "<style scoped>\n",
       "    .dataframe tbody tr th:only-of-type {\n",
       "        vertical-align: middle;\n",
       "    }\n",
       "\n",
       "    .dataframe tbody tr th {\n",
       "        vertical-align: top;\n",
       "    }\n",
       "\n",
       "    .dataframe thead th {\n",
       "        text-align: right;\n",
       "    }\n",
       "</style>\n",
       "<table border=\"1\" class=\"dataframe\">\n",
       "  <thead>\n",
       "    <tr style=\"text-align: right;\">\n",
       "      <th></th>\n",
       "      <th>Close/Last</th>\n",
       "      <th>Volume</th>\n",
       "      <th>Open</th>\n",
       "      <th>High</th>\n",
       "      <th>Low</th>\n",
       "    </tr>\n",
       "    <tr>\n",
       "      <th>Date</th>\n",
       "      <th></th>\n",
       "      <th></th>\n",
       "      <th></th>\n",
       "      <th></th>\n",
       "      <th></th>\n",
       "    </tr>\n",
       "  </thead>\n",
       "  <tbody>\n",
       "    <tr>\n",
       "      <th>2021-06-09</th>\n",
       "      <td>$3281.15</td>\n",
       "      <td>2455530</td>\n",
       "      <td>$3272.87</td>\n",
       "      <td>$3297.58</td>\n",
       "      <td>$3270.7</td>\n",
       "    </tr>\n",
       "    <tr>\n",
       "      <th>2021-06-08</th>\n",
       "      <td>$3264.11</td>\n",
       "      <td>3416730</td>\n",
       "      <td>$3222.61</td>\n",
       "      <td>$3279.5321</td>\n",
       "      <td>$3218.01</td>\n",
       "    </tr>\n",
       "    <tr>\n",
       "      <th>2021-06-07</th>\n",
       "      <td>$3198.01</td>\n",
       "      <td>2215756</td>\n",
       "      <td>$3197.33</td>\n",
       "      <td>$3208</td>\n",
       "      <td>$3172.2</td>\n",
       "    </tr>\n",
       "    <tr>\n",
       "      <th>2021-06-04</th>\n",
       "      <td>$3206.22</td>\n",
       "      <td>2249749</td>\n",
       "      <td>$3212</td>\n",
       "      <td>$3221</td>\n",
       "      <td>$3198.81</td>\n",
       "    </tr>\n",
       "    <tr>\n",
       "      <th>2021-06-03</th>\n",
       "      <td>$3187.01</td>\n",
       "      <td>2398293</td>\n",
       "      <td>$3204.23</td>\n",
       "      <td>$3214.435</td>\n",
       "      <td>$3184.03</td>\n",
       "    </tr>\n",
       "  </tbody>\n",
       "</table>\n",
       "</div>"
      ],
      "text/plain": [
       "           Close/Last   Volume      Open        High       Low\n",
       "Date                                                          \n",
       "2021-06-09   $3281.15  2455530  $3272.87    $3297.58   $3270.7\n",
       "2021-06-08   $3264.11  3416730  $3222.61  $3279.5321  $3218.01\n",
       "2021-06-07   $3198.01  2215756  $3197.33       $3208   $3172.2\n",
       "2021-06-04   $3206.22  2249749     $3212       $3221  $3198.81\n",
       "2021-06-03   $3187.01  2398293  $3204.23   $3214.435  $3184.03"
      ]
     },
     "execution_count": 3,
     "metadata": {},
     "output_type": "execute_result"
    }
   ],
   "source": [
    "df_amazon.head()"
   ]
  },
  {
   "cell_type": "code",
   "execution_count": 4,
   "metadata": {},
   "outputs": [
    {
     "data": {
      "text/plain": [
       "Index(['Close/Last', 'Volume', 'Open', 'High', 'Low'], dtype='object')"
      ]
     },
     "execution_count": 4,
     "metadata": {},
     "output_type": "execute_result"
    }
   ],
   "source": [
    "df_amazon.columns"
   ]
  },
  {
   "cell_type": "code",
   "execution_count": 5,
   "metadata": {},
   "outputs": [
    {
     "data": {
      "text/html": [
       "<div>\n",
       "<style scoped>\n",
       "    .dataframe tbody tr th:only-of-type {\n",
       "        vertical-align: middle;\n",
       "    }\n",
       "\n",
       "    .dataframe tbody tr th {\n",
       "        vertical-align: top;\n",
       "    }\n",
       "\n",
       "    .dataframe thead th {\n",
       "        text-align: right;\n",
       "    }\n",
       "</style>\n",
       "<table border=\"1\" class=\"dataframe\">\n",
       "  <thead>\n",
       "    <tr style=\"text-align: right;\">\n",
       "      <th></th>\n",
       "      <th>Close/Last</th>\n",
       "      <th>Volume</th>\n",
       "      <th>Open</th>\n",
       "      <th>High</th>\n",
       "      <th>Low</th>\n",
       "    </tr>\n",
       "    <tr>\n",
       "      <th>Date</th>\n",
       "      <th></th>\n",
       "      <th></th>\n",
       "      <th></th>\n",
       "      <th></th>\n",
       "      <th></th>\n",
       "    </tr>\n",
       "  </thead>\n",
       "  <tbody>\n",
       "    <tr>\n",
       "      <th>2021-06-09</th>\n",
       "      <td>$3281.15</td>\n",
       "      <td>2455530</td>\n",
       "      <td>$3272.87</td>\n",
       "      <td>$3297.58</td>\n",
       "      <td>$3270.7</td>\n",
       "    </tr>\n",
       "    <tr>\n",
       "      <th>2021-06-08</th>\n",
       "      <td>$3264.11</td>\n",
       "      <td>3416730</td>\n",
       "      <td>$3222.61</td>\n",
       "      <td>$3279.5321</td>\n",
       "      <td>$3218.01</td>\n",
       "    </tr>\n",
       "    <tr>\n",
       "      <th>2021-06-07</th>\n",
       "      <td>$3198.01</td>\n",
       "      <td>2215756</td>\n",
       "      <td>$3197.33</td>\n",
       "      <td>$3208</td>\n",
       "      <td>$3172.2</td>\n",
       "    </tr>\n",
       "    <tr>\n",
       "      <th>2021-06-04</th>\n",
       "      <td>$3206.22</td>\n",
       "      <td>2249749</td>\n",
       "      <td>$3212</td>\n",
       "      <td>$3221</td>\n",
       "      <td>$3198.81</td>\n",
       "    </tr>\n",
       "    <tr>\n",
       "      <th>2021-06-03</th>\n",
       "      <td>$3187.01</td>\n",
       "      <td>2398293</td>\n",
       "      <td>$3204.23</td>\n",
       "      <td>$3214.435</td>\n",
       "      <td>$3184.03</td>\n",
       "    </tr>\n",
       "  </tbody>\n",
       "</table>\n",
       "</div>"
      ],
      "text/plain": [
       "           Close/Last   Volume      Open        High       Low\n",
       "Date                                                          \n",
       "2021-06-09   $3281.15  2455530  $3272.87    $3297.58   $3270.7\n",
       "2021-06-08   $3264.11  3416730  $3222.61  $3279.5321  $3218.01\n",
       "2021-06-07   $3198.01  2215756  $3197.33       $3208   $3172.2\n",
       "2021-06-04   $3206.22  2249749     $3212       $3221  $3198.81\n",
       "2021-06-03   $3187.01  2398293  $3204.23   $3214.435  $3184.03"
      ]
     },
     "execution_count": 5,
     "metadata": {},
     "output_type": "execute_result"
    }
   ],
   "source": [
    "df_amazon.head()"
   ]
  },
  {
   "cell_type": "markdown",
   "metadata": {},
   "source": [
    "**CLEANING THE DATASET**"
   ]
  },
  {
   "cell_type": "code",
   "execution_count": 6,
   "metadata": {},
   "outputs": [],
   "source": [
    "df_amazon['Close/Last'] = df_amazon['Close/Last'].str.replace('$', '')\n",
    "df_amazon['Open'] = df_amazon['Open'].str.replace('$', '')\n",
    "df_amazon['High'] = df_amazon['High'].str.replace('$', '')\n",
    "df_amazon['Low'] = df_amazon['Low'].str.replace('$', '')"
   ]
  },
  {
   "cell_type": "code",
   "execution_count": 7,
   "metadata": {},
   "outputs": [
    {
     "data": {
      "text/html": [
       "<div>\n",
       "<style scoped>\n",
       "    .dataframe tbody tr th:only-of-type {\n",
       "        vertical-align: middle;\n",
       "    }\n",
       "\n",
       "    .dataframe tbody tr th {\n",
       "        vertical-align: top;\n",
       "    }\n",
       "\n",
       "    .dataframe thead th {\n",
       "        text-align: right;\n",
       "    }\n",
       "</style>\n",
       "<table border=\"1\" class=\"dataframe\">\n",
       "  <thead>\n",
       "    <tr style=\"text-align: right;\">\n",
       "      <th></th>\n",
       "      <th>Close/Last</th>\n",
       "      <th>Volume</th>\n",
       "      <th>Open</th>\n",
       "      <th>High</th>\n",
       "      <th>Low</th>\n",
       "    </tr>\n",
       "    <tr>\n",
       "      <th>Date</th>\n",
       "      <th></th>\n",
       "      <th></th>\n",
       "      <th></th>\n",
       "      <th></th>\n",
       "      <th></th>\n",
       "    </tr>\n",
       "  </thead>\n",
       "  <tbody>\n",
       "    <tr>\n",
       "      <th>2021-06-09</th>\n",
       "      <td>3281.15</td>\n",
       "      <td>2455530</td>\n",
       "      <td>3272.87</td>\n",
       "      <td>3297.58</td>\n",
       "      <td>3270.7</td>\n",
       "    </tr>\n",
       "    <tr>\n",
       "      <th>2021-06-08</th>\n",
       "      <td>3264.11</td>\n",
       "      <td>3416730</td>\n",
       "      <td>3222.61</td>\n",
       "      <td>3279.5321</td>\n",
       "      <td>3218.01</td>\n",
       "    </tr>\n",
       "    <tr>\n",
       "      <th>2021-06-07</th>\n",
       "      <td>3198.01</td>\n",
       "      <td>2215756</td>\n",
       "      <td>3197.33</td>\n",
       "      <td>3208</td>\n",
       "      <td>3172.2</td>\n",
       "    </tr>\n",
       "    <tr>\n",
       "      <th>2021-06-04</th>\n",
       "      <td>3206.22</td>\n",
       "      <td>2249749</td>\n",
       "      <td>3212</td>\n",
       "      <td>3221</td>\n",
       "      <td>3198.81</td>\n",
       "    </tr>\n",
       "    <tr>\n",
       "      <th>2021-06-03</th>\n",
       "      <td>3187.01</td>\n",
       "      <td>2398293</td>\n",
       "      <td>3204.23</td>\n",
       "      <td>3214.435</td>\n",
       "      <td>3184.03</td>\n",
       "    </tr>\n",
       "  </tbody>\n",
       "</table>\n",
       "</div>"
      ],
      "text/plain": [
       "           Close/Last   Volume     Open       High      Low\n",
       "Date                                                       \n",
       "2021-06-09    3281.15  2455530  3272.87    3297.58   3270.7\n",
       "2021-06-08    3264.11  3416730  3222.61  3279.5321  3218.01\n",
       "2021-06-07    3198.01  2215756  3197.33       3208   3172.2\n",
       "2021-06-04    3206.22  2249749     3212       3221  3198.81\n",
       "2021-06-03    3187.01  2398293  3204.23   3214.435  3184.03"
      ]
     },
     "execution_count": 7,
     "metadata": {},
     "output_type": "execute_result"
    }
   ],
   "source": [
    "df_amazon.head()"
   ]
  },
  {
   "cell_type": "code",
   "execution_count": 8,
   "metadata": {},
   "outputs": [
    {
     "data": {
      "text/html": [
       "<div>\n",
       "<style scoped>\n",
       "    .dataframe tbody tr th:only-of-type {\n",
       "        vertical-align: middle;\n",
       "    }\n",
       "\n",
       "    .dataframe tbody tr th {\n",
       "        vertical-align: top;\n",
       "    }\n",
       "\n",
       "    .dataframe thead th {\n",
       "        text-align: right;\n",
       "    }\n",
       "</style>\n",
       "<table border=\"1\" class=\"dataframe\">\n",
       "  <thead>\n",
       "    <tr style=\"text-align: right;\">\n",
       "      <th></th>\n",
       "      <th>Close/Last</th>\n",
       "      <th>Volume</th>\n",
       "      <th>Open</th>\n",
       "      <th>High</th>\n",
       "      <th>Low</th>\n",
       "    </tr>\n",
       "    <tr>\n",
       "      <th>Date</th>\n",
       "      <th></th>\n",
       "      <th></th>\n",
       "      <th></th>\n",
       "      <th></th>\n",
       "      <th></th>\n",
       "    </tr>\n",
       "  </thead>\n",
       "  <tbody>\n",
       "    <tr>\n",
       "      <th>2011-06-16</th>\n",
       "      <td>183.65</td>\n",
       "      <td>6025431</td>\n",
       "      <td>185.74</td>\n",
       "      <td>187</td>\n",
       "      <td>181.59</td>\n",
       "    </tr>\n",
       "    <tr>\n",
       "      <th>2011-06-15</th>\n",
       "      <td>185.98</td>\n",
       "      <td>6310918</td>\n",
       "      <td>188.04</td>\n",
       "      <td>192.45</td>\n",
       "      <td>185.3</td>\n",
       "    </tr>\n",
       "    <tr>\n",
       "      <th>2011-06-14</th>\n",
       "      <td>189.96</td>\n",
       "      <td>3952911</td>\n",
       "      <td>188.99</td>\n",
       "      <td>190.72</td>\n",
       "      <td>187.07</td>\n",
       "    </tr>\n",
       "    <tr>\n",
       "      <th>2011-06-13</th>\n",
       "      <td>186.29</td>\n",
       "      <td>3867735</td>\n",
       "      <td>186.81</td>\n",
       "      <td>189.31</td>\n",
       "      <td>184.86</td>\n",
       "    </tr>\n",
       "    <tr>\n",
       "      <th>2011-06-10</th>\n",
       "      <td>186.53</td>\n",
       "      <td>3753267</td>\n",
       "      <td>189.25</td>\n",
       "      <td>190.77</td>\n",
       "      <td>186.28</td>\n",
       "    </tr>\n",
       "  </tbody>\n",
       "</table>\n",
       "</div>"
      ],
      "text/plain": [
       "           Close/Last   Volume    Open    High     Low\n",
       "Date                                                  \n",
       "2011-06-16     183.65  6025431  185.74     187  181.59\n",
       "2011-06-15     185.98  6310918  188.04  192.45   185.3\n",
       "2011-06-14     189.96  3952911  188.99  190.72  187.07\n",
       "2011-06-13     186.29  3867735  186.81  189.31  184.86\n",
       "2011-06-10     186.53  3753267  189.25  190.77  186.28"
      ]
     },
     "execution_count": 8,
     "metadata": {},
     "output_type": "execute_result"
    }
   ],
   "source": [
    "df_amazon.tail()"
   ]
  },
  {
   "cell_type": "code",
   "execution_count": 9,
   "metadata": {},
   "outputs": [],
   "source": [
    "col_name=['Close/Last','Open','High','Low']\n",
    "for i in range(0,4):\n",
    " df_amazon[col_name[i]] = pd.to_numeric(df_amazon[col_name[i]])"
   ]
  },
  {
   "cell_type": "code",
   "execution_count": 10,
   "metadata": {},
   "outputs": [
    {
     "data": {
      "text/plain": [
       "dtype('float64')"
      ]
     },
     "execution_count": 10,
     "metadata": {},
     "output_type": "execute_result"
    }
   ],
   "source": [
    "df_amazon['High'].dtype"
   ]
  },
  {
   "cell_type": "code",
   "execution_count": 11,
   "metadata": {},
   "outputs": [
    {
     "name": "stdout",
     "output_type": "stream",
     "text": [
      "<class 'pandas.core.frame.DataFrame'>\n",
      "DatetimeIndex: 2516 entries, 2021-06-09 to 2011-06-10\n",
      "Data columns (total 5 columns):\n",
      " #   Column      Non-Null Count  Dtype  \n",
      "---  ------      --------------  -----  \n",
      " 0   Close/Last  2516 non-null   float64\n",
      " 1   Volume      2516 non-null   int64  \n",
      " 2   Open        2516 non-null   float64\n",
      " 3   High        2516 non-null   float64\n",
      " 4   Low         2516 non-null   float64\n",
      "dtypes: float64(4), int64(1)\n",
      "memory usage: 117.9 KB\n"
     ]
    }
   ],
   "source": [
    "df_amazon.info()"
   ]
  },
  {
   "cell_type": "code",
   "execution_count": 12,
   "metadata": {},
   "outputs": [
    {
     "data": {
      "text/plain": [
       "Close/Last    2516\n",
       "Volume        2516\n",
       "Open          2516\n",
       "High          2516\n",
       "Low           2516\n",
       "dtype: int64"
      ]
     },
     "execution_count": 12,
     "metadata": {},
     "output_type": "execute_result"
    }
   ],
   "source": [
    "df_amazon.count()"
   ]
  },
  {
   "cell_type": "code",
   "execution_count": 13,
   "metadata": {},
   "outputs": [
    {
     "data": {
      "text/plain": [
       "Close/Last    0\n",
       "Volume        0\n",
       "Open          0\n",
       "High          0\n",
       "Low           0\n",
       "dtype: int64"
      ]
     },
     "execution_count": 13,
     "metadata": {},
     "output_type": "execute_result"
    }
   ],
   "source": [
    "df_amazon.isnull().sum() #no null values in the data set"
   ]
  },
  {
   "cell_type": "code",
   "execution_count": 14,
   "metadata": {},
   "outputs": [
    {
     "data": {
      "text/plain": [
       "Date\n",
       "2021-06-09    False\n",
       "2021-06-08    False\n",
       "2021-06-07    False\n",
       "2021-06-04    False\n",
       "2021-06-03    False\n",
       "              ...  \n",
       "2011-06-16    False\n",
       "2011-06-15    False\n",
       "2011-06-14    False\n",
       "2011-06-13    False\n",
       "2011-06-10    False\n",
       "Length: 2516, dtype: bool"
      ]
     },
     "execution_count": 14,
     "metadata": {},
     "output_type": "execute_result"
    }
   ],
   "source": [
    "df_amazon.duplicated() #no duplicate values"
   ]
  },
  {
   "cell_type": "code",
   "execution_count": 15,
   "metadata": {},
   "outputs": [
    {
     "data": {
      "text/html": [
       "<div>\n",
       "<style scoped>\n",
       "    .dataframe tbody tr th:only-of-type {\n",
       "        vertical-align: middle;\n",
       "    }\n",
       "\n",
       "    .dataframe tbody tr th {\n",
       "        vertical-align: top;\n",
       "    }\n",
       "\n",
       "    .dataframe thead th {\n",
       "        text-align: right;\n",
       "    }\n",
       "</style>\n",
       "<table border=\"1\" class=\"dataframe\">\n",
       "  <thead>\n",
       "    <tr style=\"text-align: right;\">\n",
       "      <th></th>\n",
       "      <th>Close/Last</th>\n",
       "      <th>Volume</th>\n",
       "      <th>Open</th>\n",
       "      <th>High</th>\n",
       "      <th>Low</th>\n",
       "    </tr>\n",
       "  </thead>\n",
       "  <tbody>\n",
       "    <tr>\n",
       "      <th>Close/Last</th>\n",
       "      <td>1.000000</td>\n",
       "      <td>0.058536</td>\n",
       "      <td>0.999710</td>\n",
       "      <td>0.999857</td>\n",
       "      <td>0.999869</td>\n",
       "    </tr>\n",
       "    <tr>\n",
       "      <th>Volume</th>\n",
       "      <td>0.058536</td>\n",
       "      <td>1.000000</td>\n",
       "      <td>0.059707</td>\n",
       "      <td>0.063775</td>\n",
       "      <td>0.053753</td>\n",
       "    </tr>\n",
       "    <tr>\n",
       "      <th>Open</th>\n",
       "      <td>0.999710</td>\n",
       "      <td>0.059707</td>\n",
       "      <td>1.000000</td>\n",
       "      <td>0.999881</td>\n",
       "      <td>0.999835</td>\n",
       "    </tr>\n",
       "    <tr>\n",
       "      <th>High</th>\n",
       "      <td>0.999857</td>\n",
       "      <td>0.063775</td>\n",
       "      <td>0.999881</td>\n",
       "      <td>1.000000</td>\n",
       "      <td>0.999801</td>\n",
       "    </tr>\n",
       "    <tr>\n",
       "      <th>Low</th>\n",
       "      <td>0.999869</td>\n",
       "      <td>0.053753</td>\n",
       "      <td>0.999835</td>\n",
       "      <td>0.999801</td>\n",
       "      <td>1.000000</td>\n",
       "    </tr>\n",
       "  </tbody>\n",
       "</table>\n",
       "</div>"
      ],
      "text/plain": [
       "            Close/Last    Volume      Open      High       Low\n",
       "Close/Last    1.000000  0.058536  0.999710  0.999857  0.999869\n",
       "Volume        0.058536  1.000000  0.059707  0.063775  0.053753\n",
       "Open          0.999710  0.059707  1.000000  0.999881  0.999835\n",
       "High          0.999857  0.063775  0.999881  1.000000  0.999801\n",
       "Low           0.999869  0.053753  0.999835  0.999801  1.000000"
      ]
     },
     "execution_count": 15,
     "metadata": {},
     "output_type": "execute_result"
    }
   ],
   "source": [
    "df_amazon.corr()"
   ]
  },
  {
   "cell_type": "code",
   "execution_count": 16,
   "metadata": {},
   "outputs": [
    {
     "data": {
      "text/plain": [
       "<matplotlib.axes._subplots.AxesSubplot at 0x1f0cb8c0640>"
      ]
     },
     "execution_count": 16,
     "metadata": {},
     "output_type": "execute_result"
    },
    {
     "data": {
      "image/png": "[encoded data removed]",
      "text/plain": [
       "<Figure size 432x288 with 2 Axes>"
      ]
     },
     "metadata": {
      "needs_background": "light"
     },
     "output_type": "display_data"
    }
   ],
   "source": [
    "sns.heatmap(df_amazon.corr())"
   ]
  },
  {
   "cell_type": "markdown",
   "metadata": {},
   "source": [
    "**VISUALISING THROUGH DIFFERENT PLOTS**"
   ]
  },
  {
   "cell_type": "code",
   "execution_count": 17,
   "metadata": {},
   "outputs": [
    {
     "data": {
      "image/png": "[encoded data removed]",
      "text/plain": [
       "<Figure size 1152x576 with 1 Axes>"
      ]
     },
     "metadata": {
      "needs_background": "light"
     },
     "output_type": "display_data"
    }
   ],
   "source": [
    "plt.figure(figsize=(16,8))\n",
    "plt.title(\"Close Price of Apple Stock\")\n",
    "plt.plot(df_amazon['Close/Last'],c='red',label='Close price')\n",
    "plt.grid(c='yellow')\n",
    "plt.legend()\n",
    "plt.show()"
   ]
  },
  {
   "cell_type": "code",
   "execution_count": 18,
   "metadata": {},
   "outputs": [
    {
     "data": {
      "image/png": "[encoded data removed]",
      "text/plain": [
       "<Figure size 1152x576 with 1 Axes>"
      ]
     },
     "metadata": {
      "needs_background": "light"
     },
     "output_type": "display_data"
    }
   ],
   "source": [
    "plt.figure(figsize=(16,8))\n",
    "plt.title(\"Open Price of Apple Stock\")\n",
    "plt.plot(df_amazon['Open'],c='yellow',label='Open price')\n",
    "plt.grid(c='black')\n",
    "plt.legend()\n",
    "plt.show()"
   ]
  },
  {
   "cell_type": "code",
   "execution_count": 19,
   "metadata": {},
   "outputs": [
    {
     "data": {
      "image/png": "[encoded data removed]",
      "text/plain": [
       "<Figure size 1152x432 with 1 Axes>"
      ]
     },
     "metadata": {
      "needs_background": "light"
     },
     "output_type": "display_data"
    }
   ],
   "source": [
    "df_amazon['High'].plot(figsize=(16,6))\n",
    "plt.grid(c='black')"
   ]
  },
  {
   "cell_type": "code",
   "execution_count": 20,
   "metadata": {},
   "outputs": [
    {
     "data": {
      "image/png": "[encoded data removed]",
      "text/plain": [
       "<Figure size 1152x576 with 1 Axes>"
      ]
     },
     "metadata": {
      "needs_background": "light"
     },
     "output_type": "display_data"
    }
   ],
   "source": [
    "\n",
    "plt.figure(figsize=(16,8))\n",
    "plt.title(\"Volume of Amazon Stock\")\n",
    "plt.plot(df_amazon['Volume'],c='Black',label='Volume')\n",
    "plt.grid(c='blue')\n",
    "plt.legend()\n",
    "plt.show()"
   ]
  },
  {
   "cell_type": "code",
   "execution_count": 21,
   "metadata": {},
   "outputs": [
    {
     "data": {
      "image/png": "[encoded data removed]",
      "text/plain": [
       "<Figure size 432x288 with 1 Axes>"
      ]
     },
     "metadata": {
      "needs_background": "light"
     },
     "output_type": "display_data"
    }
   ],
   "source": [
    "c=df_amazon.Open\n",
    "h=df_amazon.High\n",
    "plt.plot(c,c='red',label='Open Price',linestyle='dotted')\n",
    "plt.plot(h,c='green',label='High Price',linestyle='dashed')\n",
    "plt.title('Open vs High')\n",
    "plt.legend()\n",
    "plt.xticks(rotation=45)\n",
    "plt.show()"
   ]
  },
  {
   "cell_type": "code",
   "execution_count": 22,
   "metadata": {},
   "outputs": [
    {
     "data": {
      "image/png": "[encoded data removed]",
      "text/plain": [
       "<Figure size 432x288 with 1 Axes>"
      ]
     },
     "metadata": {
      "needs_background": "light"
     },
     "output_type": "display_data"
    }
   ],
   "source": [
    "l=df_amazon['Close/Last']\n",
    "h=df_amazon.High\n",
    "plt.plot(l,c='black',label='Close Price',linestyle='dotted')\n",
    "plt.plot(h,c='yellow',label='High Price',linestyle='dashed')\n",
    "plt.title('Close vs High')\n",
    "plt.legend()\n",
    "plt.xticks(rotation=45)\n",
    "plt.show()"
   ]
  },
  {
   "cell_type": "code",
   "execution_count": 23,
   "metadata": {},
   "outputs": [
    {
     "data": {
      "image/png": "[encoded data removed]",
      "text/plain": [
       "<Figure size 432x288 with 1 Axes>"
      ]
     },
     "metadata": {
      "needs_background": "light"
     },
     "output_type": "display_data"
    }
   ],
   "source": [
    "lo=df_amazon['Low']\n",
    "h=df_amazon.High\n",
    "plt.plot(lo,c='red',label='Low Price',linestyle='dotted')\n",
    "plt.plot(h,c='green',label='High Price',linestyle='dashed')\n",
    "plt.title('Low vs High')\n",
    "plt.legend()\n",
    "plt.xticks(rotation=45)\n",
    "plt.show()"
   ]
  },
  {
   "cell_type": "code",
   "execution_count": 24,
   "metadata": {},
   "outputs": [
    {
     "data": {
      "image/png": "[encoded data removed]",
      "text/plain": [
       "<Figure size 432x288 with 1 Axes>"
      ]
     },
     "metadata": {
      "needs_background": "light"
     },
     "output_type": "display_data"
    },
    {
     "name": "stdout",
     "output_type": "stream",
     "text": [
      "            Close/Last    Volume      Open      High       Low\n",
      "Close/Last    1.000000  0.058536  0.999710  0.999857  0.999869\n",
      "Volume        0.058536  1.000000  0.059707  0.063775  0.053753\n",
      "Open          0.999710  0.059707  1.000000  0.999881  0.999835\n",
      "High          0.999857  0.063775  0.999881  1.000000  0.999801\n",
      "Low           0.999869  0.053753  0.999835  0.999801  1.000000\n"
     ]
    }
   ],
   "source": [
    "sns.regplot(l,h)\n",
    "plt.title(\"REGRESSION PLOT OF CLOSE AND HIGH\")\n",
    "plt.show()\n",
    "print(df_amazon.corr())"
   ]
  },
  {
   "cell_type": "code",
   "execution_count": 25,
   "metadata": {},
   "outputs": [],
   "source": [
    "data=df_amazon['Close/Last']\n"
   ]
  },
  {
   "cell_type": "code",
   "execution_count": 26,
   "metadata": {},
   "outputs": [
    {
     "data": {
      "text/plain": [
       "(2516,)"
      ]
     },
     "execution_count": 26,
     "metadata": {},
     "output_type": "execute_result"
    }
   ],
   "source": [
    "data.shape"
   ]
  },
  {
   "cell_type": "code",
   "execution_count": 27,
   "metadata": {},
   "outputs": [
    {
     "data": {
      "text/plain": [
       "array([[3281.15],\n",
       "       [3264.11],\n",
       "       [3198.01],\n",
       "       ...,\n",
       "       [ 189.96],\n",
       "       [ 186.29],\n",
       "       [ 186.53]])"
      ]
     },
     "execution_count": 27,
     "metadata": {},
     "output_type": "execute_result"
    }
   ],
   "source": [
    "dataset=data.values.reshape(-1,1)\n",
    "dataset"
   ]
  },
  {
   "cell_type": "code",
   "execution_count": 28,
   "metadata": {},
   "outputs": [
    {
     "data": {
      "text/plain": [
       "2013"
      ]
     },
     "execution_count": 28,
     "metadata": {},
     "output_type": "execute_result"
    }
   ],
   "source": [
    "training_data_len=math.ceil(len(dataset)*.8)\n",
    "training_data_len"
   ]
  },
  {
   "cell_type": "markdown",
   "metadata": {},
   "source": [
    "**Scaling the Data**"
   ]
  },
  {
   "cell_type": "code",
   "execution_count": 29,
   "metadata": {},
   "outputs": [],
   "source": [
    "from sklearn.preprocessing import MinMaxScaler"
   ]
  },
  {
   "cell_type": "code",
   "execution_count": 30,
   "metadata": {},
   "outputs": [
    {
     "data": {
      "text/plain": [
       "array([[0.92546935],\n",
       "       [0.92039543],\n",
       "       [0.90071315],\n",
       "       ...,\n",
       "       [0.00502032],\n",
       "       [0.00392752],\n",
       "       [0.00399899]])"
      ]
     },
     "execution_count": 30,
     "metadata": {},
     "output_type": "execute_result"
    }
   ],
   "source": [
    "\n",
    "\n",
    "scaler = MinMaxScaler(feature_range=(0, 1))\n",
    "scaled_data = scaler.fit_transform(dataset)\n",
    "scaled_data"
   ]
  },
  {
   "cell_type": "code",
   "execution_count": 31,
   "metadata": {},
   "outputs": [
    {
     "name": "stdout",
     "output_type": "stream",
     "text": [
      "[array([0.92546935, 0.92039543, 0.90071315, 0.9031578 , 0.89743773,\n",
      "       0.91142674, 0.90685902, 0.90817515, 0.91027141, 0.92070809,\n",
      "       0.91888874, 0.91470216, 0.90222282, 0.91550315, 0.91077464,\n",
      "       0.91091756, 0.9222654 , 0.90812453, 0.8898328 , 0.8869951 ,\n",
      "       0.90842527, 0.89847395, 0.92858398, 0.93297899, 0.92231006,\n",
      "       0.9346167 , 0.95683595, 0.98093409, 0.9820924 , 0.97827802,\n",
      "       0.9660488 , 0.96353864, 0.94325487, 0.93377403, 0.94954963,\n",
      "       0.94141171, 0.95252431, 0.96069201, 0.95463248, 0.94090848,\n",
      "       0.96085876, 0.95472181, 0.95258088, 0.93087379, 0.92494529,\n",
      "       0.90839847, 0.90926497, 0.88969286, 0.8697664 , 0.85821609,\n",
      "       0.86430241, 0.85724537, 0.85552727, 0.86767907, 0.88269537,\n",
      "       0.87476588, 0.86407313, 0.8500871 , 0.88216833, 0.86910536])]\n",
      "[0.8660741137761102]\n",
      "\n",
      "[array([0.92546935, 0.92039543, 0.90071315, 0.9031578 , 0.89743773,\n",
      "       0.91142674, 0.90685902, 0.90817515, 0.91027141, 0.92070809,\n",
      "       0.91888874, 0.91470216, 0.90222282, 0.91550315, 0.91077464,\n",
      "       0.91091756, 0.9222654 , 0.90812453, 0.8898328 , 0.8869951 ,\n",
      "       0.90842527, 0.89847395, 0.92858398, 0.93297899, 0.92231006,\n",
      "       0.9346167 , 0.95683595, 0.98093409, 0.9820924 , 0.97827802,\n",
      "       0.9660488 , 0.96353864, 0.94325487, 0.93377403, 0.94954963,\n",
      "       0.94141171, 0.95252431, 0.96069201, 0.95463248, 0.94090848,\n",
      "       0.96085876, 0.95472181, 0.95258088, 0.93087379, 0.92494529,\n",
      "       0.90839847, 0.90926497, 0.88969286, 0.8697664 , 0.85821609,\n",
      "       0.86430241, 0.85724537, 0.85552727, 0.86767907, 0.88269537,\n",
      "       0.87476588, 0.86407313, 0.8500871 , 0.88216833, 0.86910536]), array([0.92039543, 0.90071315, 0.9031578 , 0.89743773, 0.91142674,\n",
      "       0.90685902, 0.90817515, 0.91027141, 0.92070809, 0.91888874,\n",
      "       0.91470216, 0.90222282, 0.91550315, 0.91077464, 0.91091756,\n",
      "       0.9222654 , 0.90812453, 0.8898328 , 0.8869951 , 0.90842527,\n",
      "       0.89847395, 0.92858398, 0.93297899, 0.92231006, 0.9346167 ,\n",
      "       0.95683595, 0.98093409, 0.9820924 , 0.97827802, 0.9660488 ,\n",
      "       0.96353864, 0.94325487, 0.93377403, 0.94954963, 0.94141171,\n",
      "       0.95252431, 0.96069201, 0.95463248, 0.94090848, 0.96085876,\n",
      "       0.95472181, 0.95258088, 0.93087379, 0.92494529, 0.90839847,\n",
      "       0.90926497, 0.88969286, 0.8697664 , 0.85821609, 0.86430241,\n",
      "       0.85724537, 0.85552727, 0.86767907, 0.88269537, 0.87476588,\n",
      "       0.86407313, 0.8500871 , 0.88216833, 0.86910536, 0.86607411])]\n",
      "[0.8660741137761102, 0.8683996605475903]\n",
      "\n"
     ]
    }
   ],
   "source": [
    "#Creating the training dataset\n",
    "#Creating the scaled training data set\n",
    "\n",
    "train_data=scaled_data[0:training_data_len,:]\n",
    "\n",
    "\n",
    "#splitting the train data into x_train and y_train dataset\n",
    "x_train=[]\n",
    "y_train=[]\n",
    "\n",
    "for i in range(60,len(train_data)):\n",
    "    x_train.append(train_data[i-60:i,0])\n",
    "    y_train.append(train_data[i,0])\n",
    "    if i<=61:\n",
    "        print(x_train)\n",
    "        print(y_train)\n",
    "        print()"
   ]
  },
  {
   "cell_type": "code",
   "execution_count": 32,
   "metadata": {},
   "outputs": [],
   "source": [
    "#Converting x_train and y_train into numpy arrays\n",
    "\n",
    "x_train,y_train=np.array(x_train),np.array(y_train)"
   ]
  },
  {
   "cell_type": "code",
   "execution_count": 33,
   "metadata": {},
   "outputs": [
    {
     "data": {
      "text/plain": [
       "(1953, 60, 1)"
      ]
     },
     "execution_count": 33,
     "metadata": {},
     "output_type": "execute_result"
    }
   ],
   "source": [
    "#Reshaping\n",
    "x_train=np.reshape(x_train,(x_train.shape[0],x_train.shape[1],1))\n",
    "x_train.shape"
   ]
  },
  {
   "cell_type": "code",
   "execution_count": 34,
   "metadata": {},
   "outputs": [],
   "source": [
    "#Building the LSTM model\n",
    "\n",
    "model=Sequential()\n",
    "model.add(LSTM(50,return_sequences=True,input_shape=(x_train.shape[1],1)))\n",
    "model.add(LSTM(50,return_sequences=False))\n",
    "model.add(Dense(25))\n",
    "model.add(Dense(1))"
   ]
  },
  {
   "cell_type": "code",
   "execution_count": 35,
   "metadata": {},
   "outputs": [],
   "source": [
    "#Compiling the model\n",
    "model.compile(optimizer='adam',loss='mean_squared_error')"
   ]
  },
  {
   "cell_type": "code",
   "execution_count": 36,
   "metadata": {},
   "outputs": [
    {
     "name": "stdout",
     "output_type": "stream",
     "text": [
      "1953/1953 [==============================] - 70s 34ms/step - loss: 0.0017\n"
     ]
    },
    {
     "data": {
      "text/plain": [
       "<tensorflow.python.keras.callbacks.History at 0x1f0cc4c43d0>"
      ]
     },
     "execution_count": 36,
     "metadata": {},
     "output_type": "execute_result"
    }
   ],
   "source": [
    "#Train the model\n",
    "model.fit(x_train,y_train,batch_size=1,epochs=1)"
   ]
  },
  {
   "cell_type": "code",
   "execution_count": 37,
   "metadata": {},
   "outputs": [],
   "source": [
    "#Creating the testing dataset\n",
    "#Creating a new array containing the scaled dataset\n",
    "test_data=scaled_data[training_data_len -60:,:]\n",
    "\n",
    "#Creating x_test and y_test\n",
    "\n",
    "x_test=[]\n",
    "y_test=dataset[training_data_len:,:]\n",
    "\n",
    "for i in range(60,len(test_data)):\n",
    "    x_test.append(test_data[i-60:i,0])\n",
    "    "
   ]
  },
  {
   "cell_type": "code",
   "execution_count": 38,
   "metadata": {},
   "outputs": [],
   "source": [
    "#Converting the data to numpy array\n",
    "x_test=np.array(x_test)\n"
   ]
  },
  {
   "cell_type": "code",
   "execution_count": 39,
   "metadata": {},
   "outputs": [],
   "source": [
    "#Reshaping the data\n",
    "x_test=np.reshape(x_test, (x_test.shape[0],x_test.shape[1],1))"
   ]
  },
  {
   "cell_type": "code",
   "execution_count": 40,
   "metadata": {},
   "outputs": [],
   "source": [
    "#models predicted price values\n",
    "predictions=model.predict(x_test)\n",
    "predictions=scaler.inverse_transform(predictions)"
   ]
  },
  {
   "cell_type": "code",
   "execution_count": 41,
   "metadata": {},
   "outputs": [
    {
     "data": {
      "image/png": "[encoded data removed]",
      "text/plain": [
       "<Figure size 432x288 with 1 Axes>"
      ]
     },
     "metadata": {
      "needs_background": "light"
     },
     "output_type": "display_data"
    }
   ],
   "source": [
    "plt.plot(dataset,c='black')\n",
    "plt.plot(predictions,c='green')\n",
    "plt.show()"
   ]
  },
  {
   "cell_type": "code",
   "execution_count": 42,
   "metadata": {},
   "outputs": [
    {
     "data": {
      "text/plain": [
       "11.303916445710502"
      ]
     },
     "execution_count": 42,
     "metadata": {},
     "output_type": "execute_result"
    }
   ],
   "source": [
    "#Getting the root mean squared error(rmse)\n",
    "rmse=np.sqrt(np.mean(predictions-y_test)**2)\n",
    "rmse"
   ]
  },
  {
   "cell_type": "code",
   "execution_count": 43,
   "metadata": {},
   "outputs": [
    {
     "data": {
      "text/plain": [
       "(503, 60, 1)"
      ]
     },
     "execution_count": 43,
     "metadata": {},
     "output_type": "execute_result"
    }
   ],
   "source": [
    "x_test.shape"
   ]
  },
  {
   "cell_type": "markdown",
   "metadata": {},
   "source": [
    "**TRAINING THE DATASET**"
   ]
  },
  {
   "cell_type": "code",
   "execution_count": 44,
   "metadata": {},
   "outputs": [],
   "source": [
    "from sklearn.model_selection import train_test_split\n",
    "from sklearn.linear_model import LinearRegression\n"
   ]
  },
  {
   "cell_type": "code",
   "execution_count": 45,
   "metadata": {},
   "outputs": [
    {
     "data": {
      "text/html": [
       "<div>\n",
       "<style scoped>\n",
       "    .dataframe tbody tr th:only-of-type {\n",
       "        vertical-align: middle;\n",
       "    }\n",
       "\n",
       "    .dataframe tbody tr th {\n",
       "        vertical-align: top;\n",
       "    }\n",
       "\n",
       "    .dataframe thead th {\n",
       "        text-align: right;\n",
       "    }\n",
       "</style>\n",
       "<table border=\"1\" class=\"dataframe\">\n",
       "  <thead>\n",
       "    <tr style=\"text-align: right;\">\n",
       "      <th></th>\n",
       "      <th>Close/Last</th>\n",
       "      <th>Volume</th>\n",
       "      <th>Open</th>\n",
       "      <th>High</th>\n",
       "      <th>Low</th>\n",
       "    </tr>\n",
       "  </thead>\n",
       "  <tbody>\n",
       "    <tr>\n",
       "      <th>count</th>\n",
       "      <td>2516.000000</td>\n",
       "      <td>2.516000e+03</td>\n",
       "      <td>2516.000000</td>\n",
       "      <td>2516.000000</td>\n",
       "      <td>2516.000000</td>\n",
       "    </tr>\n",
       "    <tr>\n",
       "      <th>mean</th>\n",
       "      <td>1063.464458</td>\n",
       "      <td>4.207630e+06</td>\n",
       "      <td>1063.903932</td>\n",
       "      <td>1074.999505</td>\n",
       "      <td>1051.288820</td>\n",
       "    </tr>\n",
       "    <tr>\n",
       "      <th>std</th>\n",
       "      <td>929.012084</td>\n",
       "      <td>2.295011e+06</td>\n",
       "      <td>930.056032</td>\n",
       "      <td>940.350978</td>\n",
       "      <td>917.969974</td>\n",
       "    </tr>\n",
       "    <tr>\n",
       "      <th>min</th>\n",
       "      <td>173.100000</td>\n",
       "      <td>8.813370e+05</td>\n",
       "      <td>169.620000</td>\n",
       "      <td>174.550000</td>\n",
       "      <td>166.970000</td>\n",
       "    </tr>\n",
       "    <tr>\n",
       "      <th>25%</th>\n",
       "      <td>306.772500</td>\n",
       "      <td>2.737498e+06</td>\n",
       "      <td>306.977500</td>\n",
       "      <td>310.787475</td>\n",
       "      <td>303.415500</td>\n",
       "    </tr>\n",
       "    <tr>\n",
       "      <th>50%</th>\n",
       "      <td>715.610000</td>\n",
       "      <td>3.615334e+06</td>\n",
       "      <td>715.610000</td>\n",
       "      <td>720.152500</td>\n",
       "      <td>711.240000</td>\n",
       "    </tr>\n",
       "    <tr>\n",
       "      <th>75%</th>\n",
       "      <td>1735.715000</td>\n",
       "      <td>4.936622e+06</td>\n",
       "      <td>1737.780000</td>\n",
       "      <td>1750.167500</td>\n",
       "      <td>1713.767500</td>\n",
       "    </tr>\n",
       "    <tr>\n",
       "      <th>max</th>\n",
       "      <td>3531.450000</td>\n",
       "      <td>2.412413e+07</td>\n",
       "      <td>3547.000000</td>\n",
       "      <td>3554.000000</td>\n",
       "      <td>3486.685000</td>\n",
       "    </tr>\n",
       "  </tbody>\n",
       "</table>\n",
       "</div>"
      ],
      "text/plain": [
       "        Close/Last        Volume         Open         High          Low\n",
       "count  2516.000000  2.516000e+03  2516.000000  2516.000000  2516.000000\n",
       "mean   1063.464458  4.207630e+06  1063.903932  1074.999505  1051.288820\n",
       "std     929.012084  2.295011e+06   930.056032   940.350978   917.969974\n",
       "min     173.100000  8.813370e+05   169.620000   174.550000   166.970000\n",
       "25%     306.772500  2.737498e+06   306.977500   310.787475   303.415500\n",
       "50%     715.610000  3.615334e+06   715.610000   720.152500   711.240000\n",
       "75%    1735.715000  4.936622e+06  1737.780000  1750.167500  1713.767500\n",
       "max    3531.450000  2.412413e+07  3547.000000  3554.000000  3486.685000"
      ]
     },
     "execution_count": 45,
     "metadata": {},
     "output_type": "execute_result"
    }
   ],
   "source": [
    "df_amazon.describe()"
   ]
  },
  {
   "cell_type": "code",
   "execution_count": 46,
   "metadata": {},
   "outputs": [],
   "source": [
    "x=df_amazon[['Open','High','Low','Volume']].values\n",
    "y=df_amazon['Close/Last'].values"
   ]
  },
  {
   "cell_type": "code",
   "execution_count": 47,
   "metadata": {},
   "outputs": [],
   "source": [
    "X_train,X_test,Y_train,Y_test=train_test_split(x,y,test_size=0.25,random_state=0)\n",
    "regressor=LinearRegression()"
   ]
  },
  {
   "cell_type": "code",
   "execution_count": 48,
   "metadata": {},
   "outputs": [
    {
     "data": {
      "text/plain": [
       "LinearRegression()"
      ]
     },
     "execution_count": 48,
     "metadata": {},
     "output_type": "execute_result"
    }
   ],
   "source": [
    "regressor.fit(X_train,Y_train)"
   ]
  },
  {
   "cell_type": "code",
   "execution_count": 49,
   "metadata": {},
   "outputs": [
    {
     "name": "stdout",
     "output_type": "stream",
     "text": [
      "[-6.05710981e-01  8.77825435e-01  7.26493229e-01 -1.60650940e-07]\n"
     ]
    }
   ],
   "source": [
    "print(regressor.coef_)"
   ]
  },
  {
   "cell_type": "code",
   "execution_count": 50,
   "metadata": {},
   "outputs": [
    {
     "name": "stdout",
     "output_type": "stream",
     "text": [
      "1.1298422853697048\n"
     ]
    }
   ],
   "source": [
    "print(regressor.intercept_)"
   ]
  },
  {
   "cell_type": "code",
   "execution_count": 57,
   "metadata": {},
   "outputs": [],
   "source": [
    "predicted=regressor.predict(X_test)\n",
    "predicted1=regressor.predict(X_train)"
   ]
  },
  {
   "cell_type": "code",
   "execution_count": 62,
   "metadata": {},
   "outputs": [],
   "source": [
    "score=regressor.score(X_test,Y_test)"
   ]
  },
  {
   "cell_type": "code",
   "execution_count": 63,
   "metadata": {},
   "outputs": [
    {
     "name": "stdout",
     "output_type": "stream",
     "text": [
      "0.9998902057283632\n"
     ]
    }
   ],
   "source": [
    "print(score)"
   ]
  },
  {
   "cell_type": "code",
   "execution_count": 64,
   "metadata": {},
   "outputs": [
    {
     "data": {
      "text/plain": [
       "(629,)"
      ]
     },
     "execution_count": 64,
     "metadata": {},
     "output_type": "execute_result"
    }
   ],
   "source": [
    "predicted.shape"
   ]
  },
  {
   "cell_type": "code",
   "execution_count": 65,
   "metadata": {},
   "outputs": [
    {
     "data": {
      "text/plain": [
       "(1887,)"
      ]
     },
     "execution_count": 65,
     "metadata": {},
     "output_type": "execute_result"
    }
   ],
   "source": [
    "Y_train.shape"
   ]
  },
  {
   "cell_type": "code",
   "execution_count": 66,
   "metadata": {},
   "outputs": [
    {
     "data": {
      "text/plain": [
       "(1887,)"
      ]
     },
     "execution_count": 66,
     "metadata": {},
     "output_type": "execute_result"
    }
   ],
   "source": [
    "predicted1.shape"
   ]
  },
  {
   "cell_type": "code",
   "execution_count": 67,
   "metadata": {},
   "outputs": [
    {
     "data": {
      "text/plain": [
       "(1887, 4)"
      ]
     },
     "execution_count": 67,
     "metadata": {},
     "output_type": "execute_result"
    }
   ],
   "source": [
    "X_train.shape"
   ]
  },
  {
   "cell_type": "code",
   "execution_count": 68,
   "metadata": {},
   "outputs": [
    {
     "name": "stdout",
     "output_type": "stream",
     "text": [
      "[1424.35887394  723.40969343 1629.00050034  978.09350894  214.78868825\n",
      "  992.46248674 1126.94083941  398.00388154  375.68818502  290.54728742\n",
      " 2021.1247538   993.21436477 3107.57603474 1806.1842584  1781.30459272\n",
      " 1927.53004222  336.95599018 1401.68080063  352.19068263  753.47012765\n",
      "  891.80579462  326.69366126  263.08623848  678.94589693 1919.88737505\n",
      " 1359.52217902 1913.79718248 1611.47762229  756.14983282  918.31304403\n",
      "  996.83638339  239.28182335 3317.7238126   230.38232001  424.89033532\n",
      "  947.01014783 1791.9380825   766.65780384 1998.40762445  774.85802353\n",
      " 2170.00216445 1791.58988459  233.86622645  375.7956215   330.21864966\n",
      "  204.72902912  426.5983711  2374.10301776 1101.23183339  386.9865908\n",
      "  181.00073829  333.41538843  751.05834081  217.05268296  258.49498336\n",
      " 1609.9779275  1103.65467591  259.5973356   355.08714579 1875.90240913\n",
      "  203.7952157   784.2734878   234.42515175  962.59215193 2996.20793703\n",
      "  357.77775594  256.05228783 1826.81788599  311.05409143  373.90437718\n",
      "  309.31455034  423.7965816   255.84893842 3174.22616169  376.83598968\n",
      "  388.04289802  201.75525644 1000.35400233  341.83485099 3095.73849974\n",
      "  764.34166929  309.91860066 1618.70290074  214.42980707  484.81640162\n",
      " 1832.97792073 1789.09780038 1966.84884449 2010.14487164  393.7652906\n",
      "  233.94281608  250.86673146  294.52064158  245.66840171  385.79481384\n",
      "  245.33924713  823.03034871 3503.34984206  190.48938505 1915.85499703\n",
      "  359.06238388  285.79463556 1221.12971799  340.42541783  230.76744335\n",
      "  956.81966504 1637.61728163 3162.65811517 1669.43313192  382.82153269\n",
      " 3191.81570934  233.59722911  354.51868079 1844.02288414 1418.33403273\n",
      "  811.08694982  183.73435527  612.6002309   191.38250278  333.55562203\n",
      "  248.31339838  771.70176951  339.72186849 2323.12359738  567.02285205\n",
      "  314.0668275   673.83822453 1912.70592325 2423.45007211  264.86136523\n",
      " 3158.01255005  291.32192939  307.48297995 1151.82842913 1938.07895628\n",
      "  305.16273584  332.66678697 1758.37520494 3401.48449716  194.5077985\n",
      "  888.86310687  214.2010729   772.35870985  432.79384615  549.30954208\n",
      " 1963.09530217  220.20186206  263.37913764 2434.88634944  288.11855976\n",
      " 1021.21605598  483.82305731  462.43975733  845.17316957 1128.78961595\n",
      "  974.39111627 3303.3912097   674.30298467  303.51107151  246.419131\n",
      "  260.76245778 1761.22203113 1922.49157755 3500.07429138  995.77892339\n",
      "  182.63146939  903.17978891 1693.48906564 1707.2468447   220.9515168\n",
      "  216.62919598 1900.16392741 1496.16333978  182.69515325  765.03333633\n",
      " 2006.13230416  324.83417975  324.99329806  370.36518929 1905.03827473\n",
      " 1673.37502731  277.40443464  310.12389748  602.01202981 1847.38546897\n",
      " 3168.02347224 1359.68025468 1782.22810768  594.84303636  235.19507591\n",
      "  235.31766791  211.58396447 3277.65219735  975.57364686 2158.08704087\n",
      "  844.05342349 1627.95944317  332.04485653  982.27953627  438.15607417\n",
      "  282.44427736  244.06804795  873.8805832   306.12202371 1156.88668145\n",
      "  784.11384823  193.69042315  792.31221857  195.11620164 1885.01607823\n",
      " 1748.40547896 3215.39494886  856.24920151  238.01962259  768.65459317\n",
      "  303.02596202 1673.4486631   424.02766197  575.99495752  820.7432103\n",
      "  966.28527798  201.0987104   329.69487168 1012.02057307 1724.58154007\n",
      "  515.78708396  194.92862821 1792.45019403 1521.40152796  391.62471524\n",
      "  311.31555966  725.32539777 1907.48617032  400.88639482  958.13018068\n",
      "  377.31636499 3121.52594293  361.55541192 1865.05509999 1768.52981019\n",
      "  399.29932087  327.90694882  243.21872364 1804.20819485 1655.07467526\n",
      "  842.46024015 3055.73168777  832.92034055 1843.17399786 1773.68385796\n",
      "  771.32157518  655.84339459 1939.41132322  419.72538789  232.47064909\n",
      " 1963.71899401  442.93262706 1920.87772563  260.68307323 1826.37184541\n",
      " 1748.50369321  219.01811365  198.85586459  181.43592215  476.28819701\n",
      " 1131.56977475  496.92981456  473.92936591  543.45598845  302.96199376\n",
      "  704.98136071  339.88843389  983.08706975  973.19393703  263.45465219\n",
      " 1607.66548595  986.25348191  291.06690089  207.87571753  560.1676363\n",
      "  193.16318173 1655.400507    988.15162583  318.84580372  873.50603405\n",
      "  380.91219152 1691.73371874 1698.05203865 3116.46870229  854.30034089\n",
      " 3196.45309121 1935.14072836  273.2884864  3218.15302652  188.31791431\n",
      "  271.20406487  258.12832949  309.86012481 3174.81839052 3383.15532609\n",
      "  220.29684871  345.88387797  651.35948335  351.27181892 1007.32435731\n",
      "  315.06182798  368.37718102  223.37294876 1134.89932811  300.64952602\n",
      " 1780.83233503  439.10743863  179.93743063  745.06802374 1911.24120139\n",
      "  755.03973751  198.75051672  197.50753641 2695.93789285 3288.27384196\n",
      "  251.47186885 1120.73367293  309.40676331  592.24927755 1445.97738945\n",
      " 3065.18984965 3128.63887937  996.21945498  658.75464729  308.11048118\n",
      "  305.35241471 1807.12715218  193.16807305  838.68167869 1002.10075582\n",
      " 1824.22044929  320.39316939 1630.2225426   253.50484511 3179.37037296\n",
      "  217.30197666 2560.46423712  242.22779607  373.30382708  526.4723406\n",
      "  679.71593431  372.21873668  844.63967708 3111.65176547  186.47458685\n",
      "  362.84536103 3235.83234874 1732.19063032  213.73071153  214.79064754\n",
      "  237.36118595  303.99509318  359.09953312  220.02123712  223.90371408\n",
      "  391.01021911  250.7978991   313.00930718  368.81513261 1582.39040255\n",
      "  839.43445758  662.05443718  277.08579644  193.52141158 1157.43900961\n",
      " 3335.05869493  302.04448574  717.07713294  901.97338422  216.08877848\n",
      "  355.05188982  257.6923541   248.56813974  634.39193958  193.68097414\n",
      " 1729.77894361  196.44396722 1744.64760282  393.34189053  270.47362247\n",
      "  516.85239911  297.92958153 2647.22286037 3343.30853135 1770.7507466\n",
      "  321.20445742  541.2056184   851.17652023 3190.9959197   964.97372515\n",
      "  209.22633811  985.48040163  402.93153582 1840.20327058  733.51073414\n",
      " 3381.70399009 2608.13119704  761.09762434 1009.22969964  307.30050729\n",
      "  483.33631795 1170.61282408 3101.1978758   958.83838306  176.03741588\n",
      "  329.26502702 1726.63875905  330.78702358  268.53035706  309.46972197\n",
      "  243.81026697  972.92646565 1992.39899372 1485.69921476 1130.44334051\n",
      " 1810.95677601  855.09284598 1533.56295842  349.81928044  985.00178325\n",
      "  232.8170823  3149.00518258  347.54117857  962.09485869 3395.93688267\n",
      " 2016.22053831  193.10832037 1738.74550441  273.51657608 2984.8022923\n",
      "  383.52302309  917.02343831 3217.87038284  671.72857702  361.72707514\n",
      " 1609.38325591  190.18808042  573.86350527 1739.83762724 1880.96884067\n",
      " 1778.82135162 3350.73814322  252.41524083  977.88584518  635.00900481\n",
      " 1885.18718639  204.46968123  225.64330625  535.61349988 3036.87344083\n",
      " 3211.97581223  310.24497283  330.03636107  311.0773203   184.81259936\n",
      " 3265.32984418 1817.08270508  321.23220602 3268.73923686 1664.82062478\n",
      " 1743.26919469 1823.41348896  635.35421638  264.30845417  309.62078607\n",
      " 1888.59451843  384.31882372 1984.04406577  269.61081707  501.70543883\n",
      "  401.78360537  813.45470801  376.45386503 1851.41715286  314.53155792\n",
      "  808.82943074  240.25202604  948.49214458 1895.51948196  181.0083187\n",
      "  295.09012886  307.14329731  237.68382002  188.63166714  265.35931758\n",
      " 1162.86032872  313.39589409 3075.51920609  853.01691585  549.95447367\n",
      "  735.5391286   395.66646823  279.61758222 1491.35018892  328.67729895\n",
      " 3477.30403794 3223.39371041  179.95984455 1805.50101042 1875.11568631\n",
      "  979.10421885 1838.12560557 2477.42377185  299.50702421 1884.40148981\n",
      "  380.947509    385.0971949   945.94316901  329.40488644  966.78144168\n",
      "  241.20316098  246.74422443 3107.81074368  991.24012454  215.82054286\n",
      "  358.87260732  222.47039925  301.38252099 1770.02257159  937.90030213\n",
      "  190.65996803  270.03334151 2323.95124106  256.32842702 3420.26708397\n",
      "  299.62944604  406.26369246  780.45283563 3189.15994602  307.32604573\n",
      "  435.68549776 1373.39101278  241.70396653  305.26034898 1605.91199889\n",
      "  274.34395398  256.72716072  330.97085953 1749.94483421  213.02615193\n",
      "  231.59243643 1602.01000778 3186.11911818  335.05118312  832.14978926\n",
      "  300.50867619  813.1718251  1570.81289101  425.69352809  769.38306151\n",
      "  538.96236038 1883.75180722 1633.43256118  532.33095485  215.85254996\n",
      "  312.78251613 3245.39433394 1718.68861826 1481.68035159  524.519747\n",
      " 1914.67279196  271.14664799 1829.93528805  258.74848277 3144.32627347\n",
      "  215.38568765 3195.55426241 1795.89803457  225.05993344  251.97907123\n",
      "  771.36767793 3159.63192547 1783.96866816 3293.74763678  443.25200047\n",
      "  968.37601792  325.82759848  757.59705967 1694.00876064  959.62979721\n",
      " 3151.58322876  264.74300439 1017.31259466 3144.89080824 1809.53098611\n",
      "  716.88771717  192.24875367 1950.4651114   774.88621303  267.95231537\n",
      "  187.79214856  988.4751399   946.06869879 1407.53745816  335.44157799\n",
      "  312.04735478  213.42010231 2475.08643084  504.6339823  1972.31211147\n",
      "  403.92454959 3420.67467816  199.08964517 1900.26302383  329.94582139\n",
      "  806.46138426 1855.44593042 1572.07116002 1772.58795171 1821.60096234\n",
      "  737.23236674 1140.26864716  325.14140752  981.20359149  262.77165223\n",
      "  578.33882917 2391.73551693  373.06868071  206.12625287 1889.53604605\n",
      "  635.41543032  817.80675858  624.30909755  330.2901851 ]\n"
     ]
    }
   ],
   "source": [
    "print(predicted)"
   ]
  },
  {
   "cell_type": "code",
   "execution_count": 69,
   "metadata": {},
   "outputs": [],
   "source": [
    "dframe=pd.DataFrame({'Actual':Y_test.flatten(),'Predicted':predicted.flatten()})"
   ]
  },
  {
   "cell_type": "code",
   "execution_count": 70,
   "metadata": {},
   "outputs": [],
   "source": [
    "actual=Y_test.flatten()\n",
    "predicted=predicted.flatten()"
   ]
  },
  {
   "cell_type": "code",
   "execution_count": 71,
   "metadata": {},
   "outputs": [
    {
     "data": {
      "image/png": "[encoded data removed]",
      "text/plain": [
       "<Figure size 432x288 with 1 Axes>"
      ]
     },
     "metadata": {
      "needs_background": "light"
     },
     "output_type": "display_data"
    }
   ],
   "source": [
    "plt.plot(actual,c='black')\n",
    "plt.plot(predicted,c='yellow')\n",
    "plt.show()"
   ]
  },
  {
   "cell_type": "code",
   "execution_count": 72,
   "metadata": {},
   "outputs": [
    {
     "data": {
      "text/html": [
       "<div>\n",
       "<style scoped>\n",
       "    .dataframe tbody tr th:only-of-type {\n",
       "        vertical-align: middle;\n",
       "    }\n",
       "\n",
       "    .dataframe tbody tr th {\n",
       "        vertical-align: top;\n",
       "    }\n",
       "\n",
       "    .dataframe thead th {\n",
       "        text-align: right;\n",
       "    }\n",
       "</style>\n",
       "<table border=\"1\" class=\"dataframe\">\n",
       "  <thead>\n",
       "    <tr style=\"text-align: right;\">\n",
       "      <th></th>\n",
       "      <th>Actual</th>\n",
       "      <th>Predicted</th>\n",
       "    </tr>\n",
       "  </thead>\n",
       "  <tbody>\n",
       "    <tr>\n",
       "      <th>0</th>\n",
       "      <td>1442.840</td>\n",
       "      <td>1424.358874</td>\n",
       "    </tr>\n",
       "    <tr>\n",
       "      <th>1</th>\n",
       "      <td>719.440</td>\n",
       "      <td>723.409693</td>\n",
       "    </tr>\n",
       "    <tr>\n",
       "      <th>2</th>\n",
       "      <td>1641.090</td>\n",
       "      <td>1629.000500</td>\n",
       "    </tr>\n",
       "    <tr>\n",
       "      <th>3</th>\n",
       "      <td>979.470</td>\n",
       "      <td>978.093509</td>\n",
       "    </tr>\n",
       "    <tr>\n",
       "      <th>4</th>\n",
       "      <td>217.280</td>\n",
       "      <td>214.788688</td>\n",
       "    </tr>\n",
       "    <tr>\n",
       "      <th>5</th>\n",
       "      <td>989.580</td>\n",
       "      <td>992.462487</td>\n",
       "    </tr>\n",
       "    <tr>\n",
       "      <th>6</th>\n",
       "      <td>1126.310</td>\n",
       "      <td>1126.940839</td>\n",
       "    </tr>\n",
       "    <tr>\n",
       "      <th>7</th>\n",
       "      <td>398.790</td>\n",
       "      <td>398.003882</td>\n",
       "    </tr>\n",
       "    <tr>\n",
       "      <th>8</th>\n",
       "      <td>374.590</td>\n",
       "      <td>375.688185</td>\n",
       "    </tr>\n",
       "    <tr>\n",
       "      <th>9</th>\n",
       "      <td>286.950</td>\n",
       "      <td>290.547287</td>\n",
       "    </tr>\n",
       "    <tr>\n",
       "      <th>10</th>\n",
       "      <td>2009.290</td>\n",
       "      <td>2021.124754</td>\n",
       "    </tr>\n",
       "    <tr>\n",
       "      <th>11</th>\n",
       "      <td>995.780</td>\n",
       "      <td>993.214365</td>\n",
       "    </tr>\n",
       "    <tr>\n",
       "      <th>12</th>\n",
       "      <td>3087.070</td>\n",
       "      <td>3107.576035</td>\n",
       "    </tr>\n",
       "    <tr>\n",
       "      <th>13</th>\n",
       "      <td>1807.840</td>\n",
       "      <td>1806.184258</td>\n",
       "    </tr>\n",
       "    <tr>\n",
       "      <th>14</th>\n",
       "      <td>1764.770</td>\n",
       "      <td>1781.304593</td>\n",
       "    </tr>\n",
       "    <tr>\n",
       "      <th>15</th>\n",
       "      <td>1908.990</td>\n",
       "      <td>1927.530042</td>\n",
       "    </tr>\n",
       "    <tr>\n",
       "      <th>16</th>\n",
       "      <td>337.492</td>\n",
       "      <td>336.955990</td>\n",
       "    </tr>\n",
       "    <tr>\n",
       "      <th>17</th>\n",
       "      <td>1377.450</td>\n",
       "      <td>1401.680801</td>\n",
       "    </tr>\n",
       "    <tr>\n",
       "      <th>18</th>\n",
       "      <td>354.440</td>\n",
       "      <td>352.190683</td>\n",
       "    </tr>\n",
       "    <tr>\n",
       "      <th>19</th>\n",
       "      <td>749.870</td>\n",
       "      <td>753.470128</td>\n",
       "    </tr>\n",
       "    <tr>\n",
       "      <th>20</th>\n",
       "      <td>894.880</td>\n",
       "      <td>891.805795</td>\n",
       "    </tr>\n",
       "    <tr>\n",
       "      <th>21</th>\n",
       "      <td>326.270</td>\n",
       "      <td>326.693661</td>\n",
       "    </tr>\n",
       "    <tr>\n",
       "      <th>22</th>\n",
       "      <td>263.630</td>\n",
       "      <td>263.086238</td>\n",
       "    </tr>\n",
       "    <tr>\n",
       "      <th>23</th>\n",
       "      <td>676.010</td>\n",
       "      <td>678.945897</td>\n",
       "    </tr>\n",
       "    <tr>\n",
       "      <th>24</th>\n",
       "      <td>1927.680</td>\n",
       "      <td>1919.887375</td>\n",
       "    </tr>\n",
       "  </tbody>\n",
       "</table>\n",
       "</div>"
      ],
      "text/plain": [
       "      Actual    Predicted\n",
       "0   1442.840  1424.358874\n",
       "1    719.440   723.409693\n",
       "2   1641.090  1629.000500\n",
       "3    979.470   978.093509\n",
       "4    217.280   214.788688\n",
       "5    989.580   992.462487\n",
       "6   1126.310  1126.940839\n",
       "7    398.790   398.003882\n",
       "8    374.590   375.688185\n",
       "9    286.950   290.547287\n",
       "10  2009.290  2021.124754\n",
       "11   995.780   993.214365\n",
       "12  3087.070  3107.576035\n",
       "13  1807.840  1806.184258\n",
       "14  1764.770  1781.304593\n",
       "15  1908.990  1927.530042\n",
       "16   337.492   336.955990\n",
       "17  1377.450  1401.680801\n",
       "18   354.440   352.190683\n",
       "19   749.870   753.470128\n",
       "20   894.880   891.805795\n",
       "21   326.270   326.693661\n",
       "22   263.630   263.086238\n",
       "23   676.010   678.945897\n",
       "24  1927.680  1919.887375"
      ]
     },
     "execution_count": 72,
     "metadata": {},
     "output_type": "execute_result"
    }
   ],
   "source": [
    "dframe.head(25)"
   ]
  },
  {
   "cell_type": "code",
   "execution_count": 73,
   "metadata": {},
   "outputs": [],
   "source": [
    "from sklearn import metrics"
   ]
  },
  {
   "cell_type": "code",
   "execution_count": 74,
   "metadata": {},
   "outputs": [
    {
     "name": "stdout",
     "output_type": "stream",
     "text": [
      "Mean Absolute Error: 5.056542377333381\n",
      "Mean Squared Error: 93.64960142882653\n",
      "Root Mean Squared Error: 9.677272416793201\n"
     ]
    }
   ],
   "source": [
    "print('Mean Absolute Error:',metrics.mean_absolute_error(Y_test,predicted))\n",
    "print(\"Mean Squared Error:\",metrics.mean_squared_error(Y_test,predicted))\n",
    "print('Root Mean Squared Error:',np.sqrt(metrics.mean_squared_error(Y_test,predicted)))"
   ]
  },
  {
   "cell_type": "code",
   "execution_count": 75,
   "metadata": {},
   "outputs": [],
   "source": [
    "  graph=dframe.head(20)"
   ]
  },
  {
   "cell_type": "markdown",
   "metadata": {},
   "source": [
    "**GRAPH OF ACTUAL VS PREDICTED**"
   ]
  },
  {
   "cell_type": "code",
   "execution_count": 76,
   "metadata": {},
   "outputs": [
    {
     "data": {
      "text/plain": [
       "<matplotlib.axes._subplots.AxesSubplot at 0x1f0d940cc70>"
      ]
     },
     "execution_count": 76,
     "metadata": {},
     "output_type": "execute_result"
    },
    {
     "data": {
      "image/png": "[encoded data removed]",
      "text/plain": [
       "<Figure size 432x288 with 1 Axes>"
      ]
     },
     "metadata": {
      "needs_background": "light"
     },
     "output_type": "display_data"
    }
   ],
   "source": [
    "graph.plot(kind='bar')"
   ]
  },
  {
   "cell_type": "code",
   "execution_count": null,
   "metadata": {},
   "outputs": [],
   "source": []
  },
  {
   "cell_type": "code",
   "execution_count": null,
   "metadata": {},
   "outputs": [],
   "source": []
  }
 ],
 "metadata": {
  "kernelspec": {
   "display_name": "Python 3",
   "language": "python",
   "name": "python3"
  },
  "language_info": {
   "codemirror_mode": {
    "name": "ipython",
    "version": 3
   },
   "file_extension": ".py",
   "mimetype": "text/x-python",
   "name": "python",
   "nbconvert_exporter": "python",
   "pygments_lexer": "ipython3",
   "version": "3.8.3"
  }
 },
 "nbformat": 4,
 "nbformat_minor": 4
}
